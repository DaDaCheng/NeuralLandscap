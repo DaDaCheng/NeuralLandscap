{
 "cells": [
  {
   "cell_type": "code",
   "execution_count": 1,
   "metadata": {},
   "outputs": [],
   "source": [
    "import numpy as np\n",
    "import random\n",
    "import torch\n",
    "import torch.nn as nn\n",
    "import torchvision\n",
    "import torchvision.transforms as transforms\n",
    "from torch.utils.data import DataLoader, Dataset\n",
    "import matplotlib.pyplot as plt\n",
    "import os\n",
    "os.environ['KMP_DUPLICATE_LIB_OK']='True'\n",
    "\n",
    "from time import time\n",
    "from torchvision import datasets, transforms"
   ]
  },
  {
   "cell_type": "markdown",
   "metadata": {},
   "source": [
    "## generate data"
   ]
  },
  {
   "cell_type": "code",
   "execution_count": 2,
   "metadata": {},
   "outputs": [],
   "source": [
    "transform = transforms.Compose([transforms.ToTensor(),\n",
    "                              transforms.Normalize((0.5,), (0.5,)),\n",
    "                              ])\n",
    "batchsize=64\n",
    "\n",
    "trainset = datasets.MNIST('../../data', download=True, train=True, transform=transform)\n",
    "valset = datasets.MNIST('../../data', download=True, train=False, transform=transform)\n",
    "train_loader = torch.utils.data.DataLoader(trainset, batch_size=batchsize, shuffle=False)\n",
    "valloader = torch.utils.data.DataLoader(valset, batch_size=batchsize, shuffle=False)"
   ]
  },
  {
   "cell_type": "code",
   "execution_count": 3,
   "metadata": {},
   "outputs": [
    {
     "name": "stdout",
     "output_type": "stream",
     "text": [
      "torch.Size([64, 1, 28, 28])\n",
      "torch.Size([64])\n"
     ]
    }
   ],
   "source": [
    "dataiter = iter(train_loader)\n",
    "images, labels = dataiter.next()\n",
    "\n",
    "print(images.shape)\n",
    "print(labels.shape)"
   ]
  },
  {
   "cell_type": "code",
   "execution_count": 4,
   "metadata": {},
   "outputs": [
    {
     "name": "stdout",
     "output_type": "stream",
     "text": [
      "tensor([[[-1.0000, -1.0000, -1.0000, -1.0000, -1.0000, -1.0000, -1.0000,\n",
      "          -1.0000, -1.0000, -1.0000, -1.0000, -1.0000, -1.0000, -1.0000,\n",
      "          -1.0000, -1.0000, -1.0000, -1.0000, -1.0000, -1.0000, -1.0000,\n",
      "          -1.0000, -1.0000, -1.0000, -1.0000, -1.0000, -1.0000, -1.0000],\n",
      "         [-1.0000, -1.0000, -1.0000, -1.0000, -1.0000, -1.0000, -1.0000,\n",
      "          -1.0000, -1.0000, -1.0000, -1.0000, -1.0000, -1.0000, -1.0000,\n",
      "          -1.0000, -1.0000, -1.0000, -1.0000, -1.0000, -1.0000, -1.0000,\n",
      "          -1.0000, -1.0000, -1.0000, -1.0000, -1.0000, -1.0000, -1.0000],\n",
      "         [-1.0000, -1.0000, -1.0000, -1.0000, -1.0000, -1.0000, -1.0000,\n",
      "          -1.0000, -1.0000, -1.0000, -1.0000, -1.0000, -1.0000, -1.0000,\n",
      "          -1.0000, -1.0000, -1.0000, -1.0000, -1.0000, -1.0000, -1.0000,\n",
      "          -1.0000, -1.0000, -1.0000, -1.0000, -1.0000, -1.0000, -1.0000],\n",
      "         [-1.0000, -1.0000, -1.0000, -1.0000, -1.0000, -1.0000, -1.0000,\n",
      "          -1.0000, -1.0000, -1.0000, -1.0000, -1.0000, -1.0000, -1.0000,\n",
      "          -1.0000, -1.0000, -1.0000, -1.0000, -1.0000, -1.0000, -1.0000,\n",
      "          -1.0000, -1.0000, -1.0000, -1.0000, -1.0000, -1.0000, -1.0000],\n",
      "         [-1.0000, -1.0000, -1.0000, -1.0000, -1.0000, -1.0000, -1.0000,\n",
      "          -1.0000, -1.0000, -1.0000, -1.0000, -1.0000, -1.0000, -1.0000,\n",
      "          -1.0000, -1.0000, -1.0000, -1.0000, -1.0000, -1.0000, -1.0000,\n",
      "          -1.0000, -1.0000, -1.0000, -1.0000, -1.0000, -1.0000, -1.0000],\n",
      "         [-1.0000, -1.0000, -1.0000, -1.0000, -1.0000, -1.0000, -1.0000,\n",
      "          -1.0000, -1.0000, -1.0000, -1.0000, -1.0000, -0.9765, -0.8588,\n",
      "          -0.8588, -0.8588, -0.0118,  0.0667,  0.3725, -0.7961,  0.3020,\n",
      "           1.0000,  0.9373, -0.0039, -1.0000, -1.0000, -1.0000, -1.0000],\n",
      "         [-1.0000, -1.0000, -1.0000, -1.0000, -1.0000, -1.0000, -1.0000,\n",
      "          -1.0000, -0.7647, -0.7176, -0.2627,  0.2078,  0.3333,  0.9843,\n",
      "           0.9843,  0.9843,  0.9843,  0.9843,  0.7647,  0.3490,  0.9843,\n",
      "           0.8980,  0.5294, -0.4980, -1.0000, -1.0000, -1.0000, -1.0000],\n",
      "         [-1.0000, -1.0000, -1.0000, -1.0000, -1.0000, -1.0000, -1.0000,\n",
      "          -0.6157,  0.8667,  0.9843,  0.9843,  0.9843,  0.9843,  0.9843,\n",
      "           0.9843,  0.9843,  0.9843,  0.9686, -0.2706, -0.3569, -0.3569,\n",
      "          -0.5608, -0.6941, -1.0000, -1.0000, -1.0000, -1.0000, -1.0000],\n",
      "         [-1.0000, -1.0000, -1.0000, -1.0000, -1.0000, -1.0000, -1.0000,\n",
      "          -0.8588,  0.7176,  0.9843,  0.9843,  0.9843,  0.9843,  0.9843,\n",
      "           0.5529,  0.4275,  0.9373,  0.8902, -1.0000, -1.0000, -1.0000,\n",
      "          -1.0000, -1.0000, -1.0000, -1.0000, -1.0000, -1.0000, -1.0000],\n",
      "         [-1.0000, -1.0000, -1.0000, -1.0000, -1.0000, -1.0000, -1.0000,\n",
      "          -1.0000, -0.3725,  0.2235, -0.1608,  0.9843,  0.9843,  0.6078,\n",
      "          -0.9137, -1.0000, -0.6627,  0.2078, -1.0000, -1.0000, -1.0000,\n",
      "          -1.0000, -1.0000, -1.0000, -1.0000, -1.0000, -1.0000, -1.0000],\n",
      "         [-1.0000, -1.0000, -1.0000, -1.0000, -1.0000, -1.0000, -1.0000,\n",
      "          -1.0000, -1.0000, -0.8902, -0.9922,  0.2078,  0.9843, -0.2941,\n",
      "          -1.0000, -1.0000, -1.0000, -1.0000, -1.0000, -1.0000, -1.0000,\n",
      "          -1.0000, -1.0000, -1.0000, -1.0000, -1.0000, -1.0000, -1.0000],\n",
      "         [-1.0000, -1.0000, -1.0000, -1.0000, -1.0000, -1.0000, -1.0000,\n",
      "          -1.0000, -1.0000, -1.0000, -1.0000,  0.0902,  0.9843,  0.4902,\n",
      "          -0.9843, -1.0000, -1.0000, -1.0000, -1.0000, -1.0000, -1.0000,\n",
      "          -1.0000, -1.0000, -1.0000, -1.0000, -1.0000, -1.0000, -1.0000],\n",
      "         [-1.0000, -1.0000, -1.0000, -1.0000, -1.0000, -1.0000, -1.0000,\n",
      "          -1.0000, -1.0000, -1.0000, -1.0000, -0.9137,  0.4902,  0.9843,\n",
      "          -0.4510, -1.0000, -1.0000, -1.0000, -1.0000, -1.0000, -1.0000,\n",
      "          -1.0000, -1.0000, -1.0000, -1.0000, -1.0000, -1.0000, -1.0000],\n",
      "         [-1.0000, -1.0000, -1.0000, -1.0000, -1.0000, -1.0000, -1.0000,\n",
      "          -1.0000, -1.0000, -1.0000, -1.0000, -1.0000, -0.7255,  0.8902,\n",
      "           0.7647,  0.2549, -0.1529, -0.9922, -1.0000, -1.0000, -1.0000,\n",
      "          -1.0000, -1.0000, -1.0000, -1.0000, -1.0000, -1.0000, -1.0000],\n",
      "         [-1.0000, -1.0000, -1.0000, -1.0000, -1.0000, -1.0000, -1.0000,\n",
      "          -1.0000, -1.0000, -1.0000, -1.0000, -1.0000, -1.0000, -0.3647,\n",
      "           0.8824,  0.9843,  0.9843, -0.0667, -0.8039, -1.0000, -1.0000,\n",
      "          -1.0000, -1.0000, -1.0000, -1.0000, -1.0000, -1.0000, -1.0000],\n",
      "         [-1.0000, -1.0000, -1.0000, -1.0000, -1.0000, -1.0000, -1.0000,\n",
      "          -1.0000, -1.0000, -1.0000, -1.0000, -1.0000, -1.0000, -1.0000,\n",
      "          -0.6471,  0.4588,  0.9843,  0.9843,  0.1765, -0.7882, -1.0000,\n",
      "          -1.0000, -1.0000, -1.0000, -1.0000, -1.0000, -1.0000, -1.0000],\n",
      "         [-1.0000, -1.0000, -1.0000, -1.0000, -1.0000, -1.0000, -1.0000,\n",
      "          -1.0000, -1.0000, -1.0000, -1.0000, -1.0000, -1.0000, -1.0000,\n",
      "          -1.0000, -0.8745, -0.2706,  0.9765,  0.9843,  0.4667, -1.0000,\n",
      "          -1.0000, -1.0000, -1.0000, -1.0000, -1.0000, -1.0000, -1.0000],\n",
      "         [-1.0000, -1.0000, -1.0000, -1.0000, -1.0000, -1.0000, -1.0000,\n",
      "          -1.0000, -1.0000, -1.0000, -1.0000, -1.0000, -1.0000, -1.0000,\n",
      "          -1.0000, -1.0000, -1.0000,  0.9529,  0.9843,  0.9529, -0.4980,\n",
      "          -1.0000, -1.0000, -1.0000, -1.0000, -1.0000, -1.0000, -1.0000],\n",
      "         [-1.0000, -1.0000, -1.0000, -1.0000, -1.0000, -1.0000, -1.0000,\n",
      "          -1.0000, -1.0000, -1.0000, -1.0000, -1.0000, -1.0000, -1.0000,\n",
      "          -0.6392,  0.0196,  0.4353,  0.9843,  0.9843,  0.6235, -0.9843,\n",
      "          -1.0000, -1.0000, -1.0000, -1.0000, -1.0000, -1.0000, -1.0000],\n",
      "         [-1.0000, -1.0000, -1.0000, -1.0000, -1.0000, -1.0000, -1.0000,\n",
      "          -1.0000, -1.0000, -1.0000, -1.0000, -1.0000, -0.6941,  0.1608,\n",
      "           0.7961,  0.9843,  0.9843,  0.9843,  0.9608,  0.4275, -1.0000,\n",
      "          -1.0000, -1.0000, -1.0000, -1.0000, -1.0000, -1.0000, -1.0000],\n",
      "         [-1.0000, -1.0000, -1.0000, -1.0000, -1.0000, -1.0000, -1.0000,\n",
      "          -1.0000, -1.0000, -1.0000, -0.8118, -0.1059,  0.7333,  0.9843,\n",
      "           0.9843,  0.9843,  0.9843,  0.5765, -0.3882, -1.0000, -1.0000,\n",
      "          -1.0000, -1.0000, -1.0000, -1.0000, -1.0000, -1.0000, -1.0000],\n",
      "         [-1.0000, -1.0000, -1.0000, -1.0000, -1.0000, -1.0000, -1.0000,\n",
      "          -1.0000, -0.8196, -0.4824,  0.6706,  0.9843,  0.9843,  0.9843,\n",
      "           0.9843,  0.5529, -0.3647, -0.9843, -1.0000, -1.0000, -1.0000,\n",
      "          -1.0000, -1.0000, -1.0000, -1.0000, -1.0000, -1.0000, -1.0000],\n",
      "         [-1.0000, -1.0000, -1.0000, -1.0000, -1.0000, -1.0000, -0.8588,\n",
      "           0.3412,  0.7176,  0.9843,  0.9843,  0.9843,  0.9843,  0.5294,\n",
      "          -0.3725, -0.9294, -1.0000, -1.0000, -1.0000, -1.0000, -1.0000,\n",
      "          -1.0000, -1.0000, -1.0000, -1.0000, -1.0000, -1.0000, -1.0000],\n",
      "         [-1.0000, -1.0000, -1.0000, -1.0000, -0.5686,  0.3490,  0.7725,\n",
      "           0.9843,  0.9843,  0.9843,  0.9843,  0.9137,  0.0431, -0.9137,\n",
      "          -1.0000, -1.0000, -1.0000, -1.0000, -1.0000, -1.0000, -1.0000,\n",
      "          -1.0000, -1.0000, -1.0000, -1.0000, -1.0000, -1.0000, -1.0000],\n",
      "         [-1.0000, -1.0000, -1.0000, -1.0000,  0.0667,  0.9843,  0.9843,\n",
      "           0.9843,  0.6627,  0.0588,  0.0353, -0.8745, -1.0000, -1.0000,\n",
      "          -1.0000, -1.0000, -1.0000, -1.0000, -1.0000, -1.0000, -1.0000,\n",
      "          -1.0000, -1.0000, -1.0000, -1.0000, -1.0000, -1.0000, -1.0000],\n",
      "         [-1.0000, -1.0000, -1.0000, -1.0000, -1.0000, -1.0000, -1.0000,\n",
      "          -1.0000, -1.0000, -1.0000, -1.0000, -1.0000, -1.0000, -1.0000,\n",
      "          -1.0000, -1.0000, -1.0000, -1.0000, -1.0000, -1.0000, -1.0000,\n",
      "          -1.0000, -1.0000, -1.0000, -1.0000, -1.0000, -1.0000, -1.0000],\n",
      "         [-1.0000, -1.0000, -1.0000, -1.0000, -1.0000, -1.0000, -1.0000,\n",
      "          -1.0000, -1.0000, -1.0000, -1.0000, -1.0000, -1.0000, -1.0000,\n",
      "          -1.0000, -1.0000, -1.0000, -1.0000, -1.0000, -1.0000, -1.0000,\n",
      "          -1.0000, -1.0000, -1.0000, -1.0000, -1.0000, -1.0000, -1.0000],\n",
      "         [-1.0000, -1.0000, -1.0000, -1.0000, -1.0000, -1.0000, -1.0000,\n",
      "          -1.0000, -1.0000, -1.0000, -1.0000, -1.0000, -1.0000, -1.0000,\n",
      "          -1.0000, -1.0000, -1.0000, -1.0000, -1.0000, -1.0000, -1.0000,\n",
      "          -1.0000, -1.0000, -1.0000, -1.0000, -1.0000, -1.0000, -1.0000]]])\n"
     ]
    }
   ],
   "source": [
    "print(images[0])"
   ]
  },
  {
   "cell_type": "code",
   "execution_count": 5,
   "metadata": {},
   "outputs": [
    {
     "data": {
      "image/png": "[encoded data removed]",
      "text/plain": [
       "<Figure size 432x288 with 60 Axes>"
      ]
     },
     "metadata": {
      "needs_background": "light"
     },
     "output_type": "display_data"
    }
   ],
   "source": [
    "figure = plt.figure()\n",
    "num_of_images = 60\n",
    "for index in range(1, num_of_images + 1):\n",
    "    plt.subplot(6, 10, index)\n",
    "    plt.axis('off')\n",
    "    plt.imshow(images[index].numpy().squeeze(), cmap='gray_r')"
   ]
  },
  {
   "cell_type": "markdown",
   "metadata": {},
   "source": [
    "## Generate network"
   ]
  },
  {
   "cell_type": "code",
   "execution_count": 39,
   "metadata": {},
   "outputs": [],
   "source": [
    "# Device configuration\n",
    "device = torch.device('cuda' if torch.cuda.is_available() else 'cpu')\n",
    "\n",
    "# Hyper-parameters \n",
    "input_size = 784\n",
    "hidden_size1 = 1000\n",
    "num_classes = 10\n",
    "batch_size = batchsize\n",
    "\n",
    "\n",
    "class NeuralNet(nn.Module):\n",
    "    def __init__(self, input_size, hidden_size1, num_classes):\n",
    "        super(NeuralNet, self).__init__()\n",
    "        self.fc1 = nn.Linear(input_size, hidden_size1) \n",
    "        self.hidden_size1 = hidden_size1\n",
    "        #self.fc1.weight.detach().normal_(0.0, 0.1)\n",
    "        #self.fc1.bias.detach().normal_(0.0, 0.1)\n",
    "        \n",
    "        \n",
    "        self.relu1 = nn.ReLU()\n",
    "        self.fc2 = nn.Linear(hidden_size1, num_classes,bias=False)\n",
    "        #self.fc2.weight.detach().uniform_(-1,1)\n",
    "        \n",
    "        \n",
    "        self.lsm=nn.LogSoftmax(dim=1)\n",
    "    \n",
    "    def forward(self, x):\n",
    "        out = self.fc1(x)\n",
    "        out = self.relu1(out)\n",
    "        out = self.fc2(out)\n",
    "        out = self.lsm(out)\n",
    "        return out"
   ]
  },
  {
   "cell_type": "markdown",
   "metadata": {},
   "source": [
    "## Learning Regime Modification"
   ]
  },
  {
   "cell_type": "code",
   "execution_count": 52,
   "metadata": {},
   "outputs": [],
   "source": [
    "def LRM(model,i,beta=1.0):\n",
    "    with torch.no_grad():\n",
    "        model.fc1.weight[i,:]=model.fc1.weight[i,:]/beta\n",
    "        model.fc1.bias[i]=model.fc1.bias[i]/beta\n",
    "        model.fc2.weight[:,i]=model.fc2.weight[:,i]*beta\n",
    "\n",
    "def LRD(model,i):\n",
    "    with torch.no_grad():\n",
    "        a=model.fc1.weight[i][0].detach().clone().numpy() \n",
    "        b=model.fc1.bias[i].detach().clone().numpy() \n",
    "        c=model.fc2.weight[0][i].detach().clone().numpy()\n",
    "        xx=torch.tensor(-b/a).reshape(-1, 1).to(device).float()\n",
    "        fout=model(xx).numpy() \n",
    "    return [a,b,c],-b/a,c**2-a**2-b**2,fout\n",
    "\n",
    "def adjust(model,images,threshold_u=100.0,threshold_l=0.1,scale=1.0):\n",
    "    L=len(images)\n",
    "    d_=torch.zeros(hidden_size1)\n",
    "    with torch.no_grad():\n",
    "        for i in range(hidden_size1):\n",
    "            d=0\n",
    "            for k in range(L):\n",
    "                image=images[k]\n",
    "                l=-model.fc1.weight[i]/model.fc1.bias[i]\n",
    "                x_k=1/image\n",
    "                d_k=torch.abs(torch.sum(l*x_k)-1.0)/torch.norm(x_k)\n",
    "                d=d+d_k\n",
    "\n",
    "            d_[i]=d/L\n",
    "        d_=d_*scale\n",
    "        d_=torch.min(d_,torch.tensor(threshold_u*1.0))\n",
    "        d_=torch.max(d_,torch.tensor(threshold_l*1.0))\n",
    "        \n",
    "        print(d_)\n",
    "        for i in range(hidden_size1):\n",
    "            LRM(model,i,d_[i])\n",
    "    \n",
    "\n"
   ]
  },
  {
   "cell_type": "markdown",
   "metadata": {},
   "source": [
    "## Plot function"
   ]
  },
  {
   "cell_type": "code",
   "execution_count": 53,
   "metadata": {},
   "outputs": [],
   "source": [
    "def plot_training(model,node_num=1000):\n",
    "    plt.plot(train_data,train_label,'-o',label=r'$x_j,y_j$')\n",
    "\n",
    "    \n",
    "    x= np.linspace(Nmin, Nmax, num=node_num)\n",
    "    y= np.zeros(node_num)\n",
    "    with torch.no_grad():\n",
    "        for i in range(node_num):\n",
    "            xx=torch.tensor(x[i]).reshape(-1, 1).to(device).float()\n",
    "            y[i]=model(xx).numpy()\n",
    "    plt.plot(x,y,'-',label=r'$x,f(x)$')\n",
    "    \n",
    "    "
   ]
  },
  {
   "cell_type": "code",
   "execution_count": 54,
   "metadata": {},
   "outputs": [
    {
     "name": "stdout",
     "output_type": "stream",
     "text": [
      "938\n"
     ]
    }
   ],
   "source": [
    "print(len(train_loader))"
   ]
  },
  {
   "cell_type": "markdown",
   "metadata": {},
   "source": [
    "## Training"
   ]
  },
  {
   "cell_type": "code",
   "execution_count": 71,
   "metadata": {},
   "outputs": [
    {
     "name": "stdout",
     "output_type": "stream",
     "text": [
      "Epoch [1/700], Loss: 0.6846\n",
      "Epoch [2/700], Loss: 0.3560\n",
      "Epoch [3/700], Loss: 0.3125\n",
      "Epoch [4/700], Loss: 0.2847\n",
      "Epoch [5/700], Loss: 0.2618\n",
      "Epoch [6/700], Loss: 0.2415\n",
      "Epoch [7/700], Loss: 0.2230\n",
      "Epoch [8/700], Loss: 0.2065\n",
      "Epoch [9/700], Loss: 0.1919\n",
      "Epoch [10/700], Loss: 0.1789\n",
      "Epoch [11/700], Loss: 0.1673\n",
      "Epoch [12/700], Loss: 0.1570\n",
      "Epoch [13/700], Loss: 0.1478\n",
      "Epoch [14/700], Loss: 0.1395\n",
      "Epoch [15/700], Loss: 0.1321\n",
      "Epoch [16/700], Loss: 0.1252\n",
      "Epoch [17/700], Loss: 0.1191\n",
      "Epoch [18/700], Loss: 0.1134\n",
      "Epoch [19/700], Loss: 0.1082\n",
      "Epoch [20/700], Loss: 0.1034\n",
      "Epoch [21/700], Loss: 0.0990\n",
      "Epoch [22/700], Loss: 0.0949\n",
      "Epoch [23/700], Loss: 0.0911\n",
      "Epoch [24/700], Loss: 0.0875\n",
      "Epoch [25/700], Loss: 0.0842\n",
      "Epoch [26/700], Loss: 0.0811\n",
      "Epoch [27/700], Loss: 0.0782\n",
      "Epoch [28/700], Loss: 0.0754\n",
      "Epoch [29/700], Loss: 0.0729\n",
      "Epoch [30/700], Loss: 0.0705\n",
      "Epoch [31/700], Loss: 0.0682\n",
      "Epoch [32/700], Loss: 0.0660\n",
      "Epoch [33/700], Loss: 0.0639\n",
      "Epoch [34/700], Loss: 0.0620\n",
      "Epoch [35/700], Loss: 0.0601\n",
      "Epoch [36/700], Loss: 0.0584\n",
      "Epoch [37/700], Loss: 0.0567\n",
      "Epoch [38/700], Loss: 0.0551\n",
      "Epoch [39/700], Loss: 0.0536\n",
      "Epoch [40/700], Loss: 0.0521\n",
      "Epoch [41/700], Loss: 0.0507\n",
      "Epoch [42/700], Loss: 0.0493\n",
      "Epoch [43/700], Loss: 0.0480\n",
      "Epoch [44/700], Loss: 0.0468\n",
      "Epoch [45/700], Loss: 0.0456\n",
      "Epoch [46/700], Loss: 0.0444\n",
      "Epoch [47/700], Loss: 0.0433\n",
      "Epoch [48/700], Loss: 0.0423\n",
      "Epoch [49/700], Loss: 0.0412\n",
      "Epoch [50/700], Loss: 0.0402\n",
      "Epoch [51/700], Loss: 0.0393\n",
      "Epoch [52/700], Loss: 0.0383\n",
      "Epoch [53/700], Loss: 0.0374\n",
      "Epoch [54/700], Loss: 0.0366\n",
      "Epoch [55/700], Loss: 0.0357\n",
      "Epoch [56/700], Loss: 0.0349\n",
      "Epoch [57/700], Loss: 0.0341\n",
      "Epoch [58/700], Loss: 0.0334\n",
      "Epoch [59/700], Loss: 0.0326\n",
      "Epoch [60/700], Loss: 0.0319\n",
      "Epoch [61/700], Loss: 0.0312\n",
      "Epoch [62/700], Loss: 0.0305\n",
      "Epoch [63/700], Loss: 0.0299\n",
      "Epoch [64/700], Loss: 0.0293\n",
      "Epoch [65/700], Loss: 0.0286\n",
      "Epoch [66/700], Loss: 0.0280\n",
      "Epoch [67/700], Loss: 0.0275\n",
      "Epoch [68/700], Loss: 0.0269\n",
      "Epoch [69/700], Loss: 0.0263\n",
      "Epoch [70/700], Loss: 0.0258\n",
      "Epoch [71/700], Loss: 0.0253\n",
      "Epoch [72/700], Loss: 0.0248\n",
      "Epoch [73/700], Loss: 0.0243\n",
      "Epoch [74/700], Loss: 0.0238\n",
      "Epoch [75/700], Loss: 0.0233\n",
      "Epoch [76/700], Loss: 0.0229\n",
      "Epoch [77/700], Loss: 0.0224\n",
      "Epoch [78/700], Loss: 0.0220\n",
      "Epoch [79/700], Loss: 0.0216\n",
      "Epoch [80/700], Loss: 0.0212\n",
      "Epoch [81/700], Loss: 0.0208\n",
      "Epoch [82/700], Loss: 0.0204\n",
      "Epoch [83/700], Loss: 0.0200\n",
      "Epoch [84/700], Loss: 0.0196\n",
      "Epoch [85/700], Loss: 0.0193\n",
      "Epoch [86/700], Loss: 0.0189\n",
      "Epoch [87/700], Loss: 0.0186\n",
      "Epoch [88/700], Loss: 0.0183\n",
      "Epoch [89/700], Loss: 0.0179\n",
      "Epoch [90/700], Loss: 0.0176\n",
      "Epoch [91/700], Loss: 0.0173\n",
      "Epoch [92/700], Loss: 0.0170\n",
      "Epoch [93/700], Loss: 0.0167\n",
      "Epoch [94/700], Loss: 0.0164\n",
      "Epoch [95/700], Loss: 0.0161\n",
      "Epoch [96/700], Loss: 0.0159\n",
      "Epoch [97/700], Loss: 0.0156\n",
      "Epoch [98/700], Loss: 0.0153\n",
      "Epoch [99/700], Loss: 0.0151\n",
      "Epoch [100/700], Loss: 0.0148\n",
      "Epoch [101/700], Loss: 0.0146\n",
      "Epoch [102/700], Loss: 0.0143\n",
      "Epoch [103/700], Loss: 0.0141\n",
      "Epoch [104/700], Loss: 0.0139\n",
      "Epoch [105/700], Loss: 0.0137\n",
      "Epoch [106/700], Loss: 0.0135\n",
      "Epoch [107/700], Loss: 0.0132\n",
      "Epoch [108/700], Loss: 0.0130\n",
      "Epoch [109/700], Loss: 0.0128\n",
      "Epoch [110/700], Loss: 0.0126\n",
      "Epoch [111/700], Loss: 0.0124\n",
      "Epoch [112/700], Loss: 0.0122\n",
      "Epoch [113/700], Loss: 0.0121\n",
      "Epoch [114/700], Loss: 0.0119\n",
      "Epoch [115/700], Loss: 0.0117\n",
      "Epoch [116/700], Loss: 0.0115\n",
      "Epoch [117/700], Loss: 0.0114\n",
      "Epoch [118/700], Loss: 0.0112\n",
      "Epoch [119/700], Loss: 0.0110\n",
      "Epoch [120/700], Loss: 0.0109\n",
      "Epoch [121/700], Loss: 0.0107\n",
      "Epoch [122/700], Loss: 0.0106\n",
      "Epoch [123/700], Loss: 0.0104\n",
      "Epoch [124/700], Loss: 0.0103\n",
      "Epoch [125/700], Loss: 0.0101\n"
     ]
    }
   ],
   "source": [
    "learning_rate = 0.001\n",
    "torch.manual_seed(0)\n",
    "model = NeuralNet(input_size, hidden_size1, num_classes).to(device)\n",
    "ad=False\n",
    "if ad:\n",
    "    dataiter = iter(train_loader)\n",
    "    images, labels = dataiter.next()\n",
    "    images = images.view(images.shape[0], -1)\n",
    "    #adjust(model,images,threshold_u=1,threshold_l=0.02,scale=0.2)\n",
    "    adjust(model,images,threshold_u=20,threshold_l=0.02,scale=0.2)\n",
    "    #adjust(model,images,threshold_u=20,threshold_l=1,scale=0.2)\n",
    "    \n",
    "optimizer = torch.optim.SGD(model.parameters(), lr=learning_rate,momentum=0.9)\n",
    "criterion = nn.NLLLoss()\n",
    "num_epochs=700\n",
    "dev=100\n",
    "losslist=[]\n",
    "\n",
    "\n",
    "for epoch in range(num_epochs):\n",
    "    loss_epoch=0\n",
    "    for i, (images, labels) in enumerate(train_loader):  \n",
    "        \n",
    "\n",
    "        images = images.view(images.shape[0], -1)\n",
    "        \n",
    "        #print(images,labels)\n",
    "        # Forward pass\n",
    "        outputs = model(images)\n",
    "        loss = criterion(outputs, labels)\n",
    "        \n",
    "        \n",
    "        \n",
    "\n",
    "        loss_epoch=loss_epoch+loss.item()\n",
    "        # Backward and optimize\n",
    "        optimizer.zero_grad()\n",
    "        loss.backward()\n",
    "        optimizer.step()\n",
    "    loss_epoch=loss_epoch/len(train_loader) \n",
    "    losslist.append(loss_epoch)\n",
    "    if loss_epoch<0.01:\n",
    "        break\n",
    "    print ('Epoch [{}/{}], Loss: {:.4f}' .format(epoch+1, num_epochs, loss_epoch))\n",
    "    \n",
    "with open('bu50_bl05_s02.npy', 'wb') as f:\n",
    "    np.save(f, losslist)"
   ]
  },
  {
   "cell_type": "code",
   "execution_count": 72,
   "metadata": {},
   "outputs": [
    {
     "data": {
      "image/png": "[encoded data removed]",
      "text/plain": [
       "<Figure size 432x288 with 1 Axes>"
      ]
     },
     "metadata": {
      "needs_background": "light"
     },
     "output_type": "display_data"
    }
   ],
   "source": [
    "plt.plot(losslist)\n",
    "losslisto=losslist"
   ]
  },
  {
   "cell_type": "code",
   "execution_count": 73,
   "metadata": {},
   "outputs": [],
   "source": [
    "with open('bu20_bl20_s20.npy', 'wb') as f:\n",
    "    np.save(f, [losslisto,losslisto20,losslisto02,losslisto2002])"
   ]
  },
  {
   "cell_type": "code",
   "execution_count": 74,
   "metadata": {},
   "outputs": [
    {
     "data": {
      "image/png": "[encoded data removed]",
      "text/plain": [
       "<Figure size 432x288 with 1 Axes>"
      ]
     },
     "metadata": {
      "needs_background": "light"
     },
     "output_type": "display_data"
    }
   ],
   "source": [
    "plt.plot(losslisto,label=r'$\\beta=1$')\n",
    "plt.plot(losslisto02,label=r'$\\beta \\in [0.02,1]$')\n",
    "plt.plot(losslisto20,label=r'$\\beta \\in [1,20]$')\n",
    "plt.plot(losslisto2002,label=r'$\\beta \\in [0.02,20]$')\n",
    "plt.legend()\n",
    "\n",
    "plt.savefig('scale0_2zoom.pdf')"
   ]
  },
  {
   "cell_type": "code",
   "execution_count": 64,
   "metadata": {},
   "outputs": [],
   "source": [
    "dataiter = iter(train_loader)\n",
    "images, labels = dataiter.next()\n",
    "images = images.view(images.shape[0], -1)"
   ]
  },
  {
   "cell_type": "code",
   "execution_count": 26,
   "metadata": {},
   "outputs": [],
   "source": [
    "dataiter = iter(train_loader)\n",
    "images, labels = dataiter.next()\n",
    "images = images.view(images.shape[0], -1)\n",
    "\n",
    "torch.manual_seed(0)\n",
    "model = NeuralNet(input_size, hidden_size1, num_classes).to(device)\n",
    "\n",
    "L=len(images)\n",
    "d_=torch.zeros(hidden_size1)\n",
    "with torch.no_grad():\n",
    "    for i in range(hidden_size1):\n",
    "        d=0\n",
    "        for k in range(L):\n",
    "            image=images[k]\n",
    "            l=-model.fc1.weight[i]/model.fc1.bias[i]\n",
    "            x_k=1/image\n",
    "            d_k=torch.abs(torch.sum(l*x_k)-1.0)/torch.norm(x_k)\n",
    "            d=d+d_k\n",
    "\n",
    "        d_[i]=d/L\n",
    "d_=torch.min(d_,torch.tensor(100.))"
   ]
  },
  {
   "cell_type": "code",
   "execution_count": 27,
   "metadata": {},
   "outputs": [
    {
     "data": {
      "text/plain": [
       "[<matplotlib.lines.Line2D at 0x7fe178eb7a10>]"
      ]
     },
     "execution_count": 27,
     "metadata": {},
     "output_type": "execute_result"
    },
    {
     "data": {
      "image/png": "[encoded data removed]",
      "text/plain": [
       "<Figure size 432x288 with 1 Axes>"
      ]
     },
     "metadata": {
      "needs_background": "light"
     },
     "output_type": "display_data"
    }
   ],
   "source": [
    "plt.plot(d_)"
   ]
  },
  {
   "cell_type": "code",
   "execution_count": 41,
   "metadata": {},
   "outputs": [],
   "source": [
    "d_=torch.min(d_,torch.tensor(1000.0))"
   ]
  },
  {
   "cell_type": "code",
   "execution_count": 77,
   "metadata": {},
   "outputs": [
    {
     "name": "stdout",
     "output_type": "stream",
     "text": [
      "tensor(0.0016, grad_fn=<SelectBackward>)\n"
     ]
    }
   ],
   "source": [
    "print(model.fc1.bias[i])"
   ]
  },
  {
   "cell_type": "code",
   "execution_count": 73,
   "metadata": {},
   "outputs": [
    {
     "name": "stdout",
     "output_type": "stream",
     "text": [
      "tensor([  0.3938,  12.7157, -18.0815, -16.1082,  -8.1617,   6.6382,   0.1146,\n",
      "         18.5251,  -1.4470,   6.5579,  -6.2827,  -3.8895, -21.0913, -14.4674,\n",
      "         -8.7751,   1.4026,   9.5192,  14.1560, -14.7944,  -9.3013,   8.7916,\n",
      "         19.3746,  -4.0987,  17.5153,  -3.0880,   2.9605,  21.0756, -20.4516,\n",
      "        -13.6979,  -5.1716,  -8.2669,  20.1361, -14.1202,  -9.8650, -15.2786,\n",
      "        -20.6982, -12.7079,  20.0023,  10.6174,  11.4215,   1.5184, -11.1892,\n",
      "          4.3424, -20.8845, -16.4666, -11.4239,  14.7967,  13.7944,  -9.5144,\n",
      "         -0.3019,  15.0033,  23.0782,   9.5542,   3.6237,  15.7523, -12.7751,\n",
      "          4.7848, -17.0000, -15.1375, -11.1397,  10.8121,   9.6732, -12.8834,\n",
      "          7.3105,  12.8501,  -2.5133,   0.9127,   5.1497,  13.8470,  21.7234,\n",
      "        -17.6005,  -8.3968,   8.7120,  18.9126,  20.2735,  20.2715,   4.9290,\n",
      "        -19.2688,   2.5351, -13.6597, -20.5657,  20.6862,  17.7882, -22.0342,\n",
      "          4.8035,  -3.2528,  -3.1630,  -9.8091,   9.2784, -13.0487,   8.6004,\n",
      "         11.5367,  16.0326,   8.1634, -23.3639, -16.5572,   9.2263,   2.8140,\n",
      "        -20.3292, -15.6924,  19.6629,  14.4786,  -9.3314,  -6.0671, -22.3804,\n",
      "         -0.2828, -16.1812, -16.6305,  -0.7414,   3.9529,  -8.7487,  14.0055,\n",
      "        -13.2222,  21.1185,  16.0923, -18.5516,  -5.1592,   1.1928,   3.1510,\n",
      "          4.8798,   7.9601,   0.2716, -13.0393,   9.0361, -21.5850, -12.9896,\n",
      "         -3.3564,  -8.6278,  -3.9808, -16.1546,  -4.4299,   4.7423, -14.4138,\n",
      "         -0.5993,  16.9143,  -1.7255,   1.4005,  -1.2010,   5.2750,  14.9720,\n",
      "         22.0219,  14.9496,  22.0634,  -1.1962, -20.2632, -11.2524,  14.0553,\n",
      "         -2.0543, -12.8949, -18.0382, -21.8798, -13.9028,   2.5792,  16.9926,\n",
      "         14.6890, -18.7996,  17.2879, -11.5846,  -2.4710,  -6.0445,  -1.4872,\n",
      "         -2.1919, -19.9922, -19.8437,  -2.7072,   1.5445,  -9.6780,   9.0842,\n",
      "        -19.8261,  -0.9676,  20.3201,  -9.2181,  19.7918,   6.2800, -23.5410,\n",
      "         11.5729,  -3.4754, -10.1021,  19.1503, -12.9288,   6.4354,  -5.8683,\n",
      "         14.0421,   5.7115,  12.0769,  12.9478,  -4.9043,  -2.8598, -17.0856,\n",
      "         13.7059,  18.0910,  17.3046, -15.2053,   2.1545, -15.5237, -11.8915,\n",
      "        -12.6369,   8.1241, -13.0872,  -0.7547,  -0.7886,  11.1440, -21.1770,\n",
      "        -18.9357, -13.5397,  16.8304,  -3.4363,  21.1069,   7.0279,  -0.0627,\n",
      "         -4.7131,  -4.5703,   2.6714,  -5.3402,   0.6239,   3.9593, -16.3295,\n",
      "         -8.6525,  20.2229, -14.6076,   1.5449,  23.9572,   8.7779,   1.1882,\n",
      "        -19.1076,  11.6644, -15.8156,  -6.7246,  -9.3080,  -5.2038,  -0.5578,\n",
      "         18.4454,   5.3023,  24.7929,  18.7978, -13.0880,   8.1175, -16.0900,\n",
      "         -9.8196,   3.3925,   4.6959,  13.2404,  -7.9935,   2.4958,  12.8997,\n",
      "        -20.6961,  17.3122, -14.2117,   5.1599,  -2.0925, -10.7997,   3.7040,\n",
      "         19.2901,  -6.3224, -13.3533,  -9.1629, -24.7284,   8.0180, -10.9268,\n",
      "        -13.8917, -11.4269,  16.2072,  14.6547,  19.1743,   7.9478,  -5.8108,\n",
      "         -6.3476,   2.9482,  12.0652,   3.3453,  -9.8631,  -7.6324, -18.5040,\n",
      "          6.2395, -11.6297, -15.6520,  23.8059, -13.3179,  -1.6204,   6.6758,\n",
      "          1.2772, -14.8148, -18.3684,  16.5734,   2.2344,  17.8030,  -6.2856,\n",
      "          8.7816,  -2.9354,  -0.0579, -10.7197,  10.9874,  11.8071,   0.0466,\n",
      "         -2.0251, -15.6860,  12.0312, -19.1511,  11.1925,  -4.3336, -10.4660,\n",
      "          3.7279, -10.6627,   8.3386,   6.1073, -16.3988,   4.5447,  10.2447,\n",
      "          9.5277,  -2.4664, -18.6902,  -4.8462,   6.4766,  -6.8003,  11.8587,\n",
      "         19.2742, -10.1111,   3.2119,  14.8238,   7.7398,  10.9224,  12.5651,\n",
      "         -9.1151,   5.6997,  17.9798,  22.1410,  15.4554,   3.5291,  11.8140,\n",
      "        -11.4377, -17.6745, -16.0883,  26.0624,  16.0457, -14.0666,   9.5163,\n",
      "         17.6679,  23.0965,  19.8223,  16.9861,  -5.5990,  -6.3766,  20.9897,\n",
      "         14.0295, -12.3134,  24.8236,  13.7971,  18.2273,  -8.4336,  14.9686,\n",
      "         -2.9287,  23.4973,   0.0813,  14.5050,   4.3835,  10.5188,  -8.7303,\n",
      "         13.4081, -13.5719,   9.1212, -13.1322, -21.3835, -17.2182,  18.4061,\n",
      "         12.8198,  21.7664,  18.3213, -20.4578, -15.7241,  -4.3516, -17.5406,\n",
      "         13.6691, -18.0864,  -8.0806, -18.0432,  -5.6802,  25.2029,  22.5260,\n",
      "         17.5109,  24.2736,  25.3618,  -3.6435,   8.6569,  20.5000,   5.6819,\n",
      "         22.1426,  13.4727,  13.5321,  -9.5913,  11.0357,   2.9892,  -4.9045,\n",
      "        -12.2179, -12.2257, -17.1103,  15.4325,  15.6389,  -5.8979, -19.8480,\n",
      "         10.9404,   6.3756,  -3.6667, -11.6524,  25.3539,  13.6219, -10.9417,\n",
      "         25.3528,  19.9455,  -4.3770,  15.5653, -15.5410,  -7.1712,  12.5864,\n",
      "         -4.7223, -19.7847, -12.4581,  -9.8051,  -4.2903,   2.5392,  21.5095,\n",
      "          1.7726, -13.5410,   1.5181,  11.1097,  10.6608, -25.1746, -11.2504,\n",
      "        -24.9789, -15.0246,   4.2126, -16.7733,  11.7223,  22.5341,   7.7557,\n",
      "        -11.7303,  -6.7487,   9.6849, -16.2783,   6.1630, -27.6647, -29.6474,\n",
      "        -30.3601, -11.3127,   8.7921, -25.6225,  18.7680,  -8.8657,   7.1640,\n",
      "          1.5963, -19.9403,  18.9650,  11.8229,  20.9201,   6.8984, -20.3232,\n",
      "         14.0298,  -0.3586,   7.9952, -18.5345,  -6.9892, -22.8396, -10.4341,\n",
      "          4.4459, -16.4115,  13.6664,  10.6318,  -5.5080, -25.4108, -24.5480,\n",
      "        -15.2472,   2.4587,  16.8067,   9.3920,  -2.9223,   8.0896, -21.7025,\n",
      "        -18.7851,  11.1092, -12.7633,   9.7207, -18.7411, -15.0468, -21.7019,\n",
      "          9.2856,  -3.5167,  17.2903,  12.2037,   9.9875,  -1.2109,  -9.5754,\n",
      "         -6.2409,   3.2922,  11.2097, -21.2902,  10.7335, -10.0331, -22.2803,\n",
      "        -18.9314,  13.6070,  16.2913, -22.6545,  15.3861,  11.5896,  13.9288,\n",
      "         19.7416, -11.6475,   7.3568,   7.3974, -10.7398,   3.8870,  -6.7990,\n",
      "         13.1124,  -8.3580,  -8.9107,   4.3878,   4.6722, -15.0886,  -0.6760,\n",
      "          9.2363,  -7.2934,   2.9804,  -9.5497,   2.5246, -18.4966, -14.2502,\n",
      "        -17.3229,  16.1078,  -9.5611,  -1.1899, -11.3210,  23.0639,  22.6603,\n",
      "        -16.5216, -17.8690, -17.0835,  -2.0893,  -9.8515, -18.2417,  -7.4813,\n",
      "          5.1179, -12.6107,   4.6000,  -5.3309, -15.3472,  -0.5436,  14.3586,\n",
      "        -22.7338,  -4.7558,  -9.0285,  19.4135, -22.5758, -20.9587,  21.7287,\n",
      "        -18.7568,   1.5897,  -3.2926,  -5.4127,  -5.0880,  14.8216,   1.6356,\n",
      "        -21.4924, -12.8467,  -7.5988,   9.0482, -18.7403,  19.2342,  -3.1989,\n",
      "         -1.0866,  17.5099,   9.2639,  18.5768,   9.2620,  -9.4462, -17.9943,\n",
      "         -6.4356,  16.9801,  -8.6458, -20.7456,  10.3648,  22.0241,  -7.1708,\n",
      "        -20.9206, -21.5410,   5.5076,  -1.4933, -11.1397,   5.0303,   9.1664,\n",
      "         18.5801,  18.1411,  -3.2851, -21.4890, -22.5637,  21.1098,  14.5791,\n",
      "         15.7701, -16.6097,  23.9415,  21.7120,  17.7217, -20.2669,  -6.8705,\n",
      "        -14.9382,  22.4581, -11.0103,  -8.2186,  10.7443, -11.6755, -11.9225,\n",
      "         -3.3536,  -2.9438, -17.4009,  19.5452,  -9.6653,   8.3411,  20.2670,\n",
      "         11.9879,   3.7703,  19.4864,   2.5420, -11.5634,  21.1491,   9.0592,\n",
      "        -15.8804,  -0.3085, -12.8817,  22.7833,  -3.0560, -19.4676,   2.3154,\n",
      "         16.8946,   3.8213,   6.3635,   3.8650,   7.1186,  -9.1221, -11.0483,\n",
      "        -21.9910, -17.6885,  10.4838, -12.8523,   3.7841,   7.7563,   2.1671,\n",
      "        -14.1240,  22.2276, -12.7737,  18.2417, -20.1447,  -7.4011,  10.4397,\n",
      "         -8.2665,  24.6079, -12.6451, -17.7791, -11.5741,   5.3853,  24.6225,\n",
      "        -10.1879,   7.2072,  -2.7571,  -3.7222,  14.5816, -18.1583,   3.0504,\n",
      "         22.6554,  -2.0241,  18.8737,  -6.5432,  18.7120, -21.4069,  -2.7015,\n",
      "         -3.4156,   7.9051,   9.3940,  16.9635,  -5.4424,  -3.3921,  11.7123,\n",
      "         -8.7874,  20.5853, -13.9290,  -0.3007,  -0.1658,  10.0916,  15.8157,\n",
      "         -5.4490, -17.5817,  13.6609,   6.4595,  10.6550, -11.0987,  17.2413,\n",
      "         22.9606,   2.9448, -20.1998,  16.2805, -16.3810,   5.7344,   3.8554,\n",
      "        -10.0393,   8.4513, -19.6996,   5.6807, -14.5459,  -2.9057,   2.0557,\n",
      "         17.4247, -13.0207,  12.1296,  -3.3225, -12.4431, -21.9488, -20.9765,\n",
      "         25.5847,  -3.8943,   2.8295,   8.8825,  17.8854,  20.8707,  20.7994,\n",
      "        -15.1011,  -2.9943, -12.8442, -12.4257,   5.9124,  21.7910, -17.5845,\n",
      "         14.2734, -11.1817,  -3.8489,  18.5528,  -4.3444,   2.9528, -14.4490,\n",
      "         20.8377,  -1.4498, -14.2331,   8.8097, -14.6172, -15.7247,   4.0517,\n",
      "         22.3341,  -4.1940,  12.7000,  22.1335,  17.5656, -10.3854,  -0.7424,\n",
      "         -5.9829, -17.5394,   0.6291,  17.6129,  19.6493,   2.6770,   5.7086,\n",
      "         -9.2437,  17.6632,  -8.8629, -15.1730,   4.0499,  14.1320, -19.8647,\n",
      "         21.0865,   8.7370, -15.3089,  -4.3532,  20.2683, -16.6643,  -6.1312,\n",
      "          8.5709, -18.4239,  13.1199,  12.2930,  15.2506, -13.5218,  23.2037,\n",
      "        -12.9176,  23.1865, -21.1754, -19.6203,  14.4771,   2.9310,   1.8703],\n",
      "       grad_fn=<DivBackward0>)\n"
     ]
    }
   ],
   "source": [
    "print(model.fc1.weight[i]/model.fc1.bias[i])"
   ]
  },
  {
   "cell_type": "code",
   "execution_count": 83,
   "metadata": {},
   "outputs": [
    {
     "data": {
      "text/plain": [
       "-8.16175071360609"
      ]
     },
     "execution_count": 83,
     "metadata": {},
     "output_type": "execute_result"
    }
   ],
   "source": [
    "-1.2867e-02/1.5765*1000"
   ]
  },
  {
   "cell_type": "code",
   "execution_count": 81,
   "metadata": {},
   "outputs": [
    {
     "data": {
      "text/plain": [
       "tensor(1.5765, grad_fn=<MulBackward0>)"
      ]
     },
     "execution_count": 81,
     "metadata": {},
     "output_type": "execute_result"
    }
   ],
   "source": [
    "model.fc1.bias[i]*1000"
   ]
  },
  {
   "cell_type": "code",
   "execution_count": 84,
   "metadata": {},
   "outputs": [],
   "source": [
    "image=images[1]"
   ]
  },
  {
   "cell_type": "code",
   "execution_count": 11,
   "metadata": {},
   "outputs": [],
   "source": []
  },
  {
   "cell_type": "code",
   "execution_count": 85,
   "metadata": {},
   "outputs": [
    {
     "name": "stdout",
     "output_type": "stream",
     "text": [
      "tensor([-1.0000, -1.0000, -1.0000, -1.0000, -1.0000, -1.0000, -1.0000, -1.0000,\n",
      "        -1.0000, -1.0000, -1.0000, -1.0000, -1.0000, -1.0000, -1.0000, -1.0000,\n",
      "        -1.0000, -1.0000, -1.0000, -1.0000, -1.0000, -1.0000, -1.0000, -1.0000,\n",
      "        -1.0000, -1.0000, -1.0000, -1.0000, -1.0000, -1.0000, -1.0000, -1.0000,\n",
      "        -1.0000, -1.0000, -1.0000, -1.0000, -1.0000, -1.0000, -1.0000, -1.0000,\n",
      "        -1.0000, -1.0000, -1.0000, -1.0000, -1.0000, -1.0000, -1.0000, -1.0000,\n",
      "        -1.0000, -1.0000, -1.0000, -1.0000, -1.0000, -1.0000, -1.0000, -1.0000,\n",
      "        -1.0000, -1.0000, -1.0000, -1.0000, -1.0000, -1.0000, -1.0000, -1.0000,\n",
      "        -1.0000, -1.0000, -1.0000, -1.0000, -1.0000, -1.0000, -1.0000, -1.0000,\n",
      "        -1.0000, -1.0000, -1.0000, -1.0000, -1.0000, -1.0000, -1.0000, -1.0000,\n",
      "        -1.0000, -1.0000, -1.0000, -1.0000, -1.0000, -1.0000, -1.0000, -1.0000,\n",
      "        -1.0000, -1.0000, -1.0000, -1.0000, -1.0000, -1.0000, -1.0000, -1.0000,\n",
      "        -1.0000, -1.0000, -1.0000, -1.0000, -1.0000, -1.0000, -1.0000, -1.0000,\n",
      "        -1.0000, -1.0000, -1.0000, -1.0000, -1.0000, -1.0000, -1.0000, -1.0000,\n",
      "        -1.0000, -1.0000, -1.0000, -1.0000, -1.0000, -1.0000, -1.0000, -1.0000,\n",
      "        -1.0000, -1.0000, -1.0000, -1.0000, -1.0000, -1.0000, -1.0000, -0.6000,\n",
      "         0.2471,  0.9843,  0.2471, -0.6078, -1.0000, -1.0000, -1.0000, -1.0000,\n",
      "        -1.0000, -1.0000, -1.0000, -1.0000, -1.0000, -1.0000, -1.0000, -1.0000,\n",
      "        -1.0000, -1.0000, -1.0000, -1.0000, -1.0000, -1.0000, -1.0000, -1.0000,\n",
      "        -1.0000, -1.0000, -0.6235,  0.8667,  0.9765,  0.9765,  0.9765,  0.8588,\n",
      "        -1.0000, -1.0000, -1.0000, -1.0000, -1.0000, -1.0000, -1.0000, -1.0000,\n",
      "        -1.0000, -1.0000, -1.0000, -1.0000, -1.0000, -1.0000, -1.0000, -1.0000,\n",
      "        -1.0000, -1.0000, -1.0000, -1.0000, -1.0000, -0.5765,  0.7804,  0.9843,\n",
      "         0.9765,  0.8745,  0.8275,  0.9765, -0.5529, -0.9529, -1.0000, -1.0000,\n",
      "        -1.0000, -1.0000, -1.0000, -1.0000, -1.0000, -1.0000, -1.0000, -1.0000,\n",
      "        -1.0000, -1.0000, -1.0000, -1.0000, -1.0000, -1.0000, -1.0000, -0.9216,\n",
      "        -0.5294,  0.7569,  0.9765,  0.9843,  0.9765,  0.5843, -0.3412,  0.9765,\n",
      "         0.9843, -0.0431, -1.0000, -1.0000, -1.0000, -1.0000, -1.0000, -1.0000,\n",
      "        -1.0000, -1.0000, -1.0000, -1.0000, -1.0000, -1.0000, -1.0000, -1.0000,\n",
      "        -1.0000, -1.0000, -1.0000,  0.2784,  0.9765,  0.9765,  0.9765,  0.9843,\n",
      "         0.9765,  0.9765, -0.2471,  0.4824,  0.9843,  0.3098, -1.0000, -1.0000,\n",
      "        -1.0000, -1.0000, -1.0000, -1.0000, -1.0000, -1.0000, -1.0000, -1.0000,\n",
      "        -1.0000, -1.0000, -1.0000, -1.0000, -1.0000, -1.0000, -0.6000,  0.8667,\n",
      "         0.9843,  0.9843,  0.4902, -0.1059,  0.9843,  0.7882, -0.6314, -0.3804,\n",
      "         1.0000,  0.3176, -1.0000, -1.0000, -1.0000, -1.0000, -1.0000, -1.0000,\n",
      "        -1.0000, -1.0000, -1.0000, -1.0000, -1.0000, -1.0000, -1.0000, -1.0000,\n",
      "        -1.0000, -0.6235,  0.8667,  0.9765,  0.9765,  0.4039, -0.9059, -0.4118,\n",
      "        -0.0510, -0.8353, -1.0000, -1.0000,  0.9843,  0.9059, -0.6078, -1.0000,\n",
      "        -1.0000, -1.0000, -1.0000, -1.0000, -1.0000, -1.0000, -1.0000, -1.0000,\n",
      "        -1.0000, -1.0000, -1.0000, -1.0000, -0.7020,  0.2941,  0.9843,  0.8275,\n",
      "         0.6314, -0.3412, -1.0000, -1.0000, -1.0000, -1.0000, -1.0000, -1.0000,\n",
      "         0.9843,  0.9765,  0.2941, -1.0000, -1.0000, -1.0000, -1.0000, -1.0000,\n",
      "        -1.0000, -1.0000, -1.0000, -1.0000, -1.0000, -1.0000, -1.0000, -0.9451,\n",
      "         0.3961,  0.9765,  0.8824, -0.4431, -0.8510, -0.7804, -1.0000, -1.0000,\n",
      "        -1.0000, -1.0000, -1.0000, -1.0000,  0.9843,  0.9765,  0.5294, -1.0000,\n",
      "        -1.0000, -1.0000, -1.0000, -1.0000, -1.0000, -1.0000, -1.0000, -1.0000,\n",
      "        -1.0000, -1.0000, -1.0000, -0.5529,  0.9765,  0.9765, -0.5059, -1.0000,\n",
      "        -1.0000, -1.0000, -1.0000, -1.0000, -1.0000, -1.0000, -1.0000, -1.0000,\n",
      "         0.9843,  0.9765,  0.5294, -1.0000, -1.0000, -1.0000, -1.0000, -1.0000,\n",
      "        -1.0000, -1.0000, -1.0000, -1.0000, -1.0000, -1.0000, -1.0000,  0.5529,\n",
      "         0.9843,  0.4902, -1.0000, -1.0000, -1.0000, -1.0000, -1.0000, -1.0000,\n",
      "        -1.0000, -1.0000, -1.0000, -1.0000,  1.0000,  0.9843,  0.5373, -1.0000,\n",
      "        -1.0000, -1.0000, -1.0000, -1.0000, -1.0000, -1.0000, -1.0000, -1.0000,\n",
      "        -1.0000, -1.0000, -0.4039,  0.9294,  0.9765, -0.1216, -1.0000, -1.0000,\n",
      "        -1.0000, -1.0000, -1.0000, -1.0000, -1.0000, -1.0000, -1.0000, -1.0000,\n",
      "         0.9843,  0.9765,  0.1608, -1.0000, -1.0000, -1.0000, -1.0000, -1.0000,\n",
      "        -1.0000, -1.0000, -1.0000, -1.0000, -1.0000, -1.0000, -0.3333,  0.9765,\n",
      "         0.8039, -0.8039, -1.0000, -1.0000, -1.0000, -1.0000, -1.0000, -1.0000,\n",
      "        -1.0000, -1.0000, -0.9451,  0.0588,  0.9843,  0.4588, -0.9059, -1.0000,\n",
      "        -1.0000, -1.0000, -1.0000, -1.0000, -1.0000, -1.0000, -1.0000, -1.0000,\n",
      "        -1.0000, -1.0000, -0.3333,  0.9765,  0.7490, -1.0000, -1.0000, -1.0000,\n",
      "        -1.0000, -1.0000, -1.0000, -1.0000, -1.0000, -0.9451,  0.0275,  0.9765,\n",
      "         0.7647, -0.4431, -1.0000, -1.0000, -1.0000, -1.0000, -1.0000, -1.0000,\n",
      "        -1.0000, -1.0000, -1.0000, -1.0000, -1.0000, -1.0000, -0.3333,  0.9765,\n",
      "         0.1373, -1.0000, -1.0000, -1.0000, -1.0000, -1.0000, -1.0000, -1.0000,\n",
      "        -0.6235,  0.2941,  0.9765,  0.3569, -1.0000, -1.0000, -1.0000, -1.0000,\n",
      "        -1.0000, -1.0000, -1.0000, -1.0000, -1.0000, -1.0000, -1.0000, -1.0000,\n",
      "        -1.0000, -1.0000, -0.3255,  0.9843,  0.7647, -1.0000, -1.0000, -1.0000,\n",
      "        -1.0000, -1.0000, -1.0000, -0.1059,  0.8667,  0.9843,  0.2706, -1.0000,\n",
      "        -1.0000, -1.0000, -1.0000, -1.0000, -1.0000, -1.0000, -1.0000, -1.0000,\n",
      "        -1.0000, -1.0000, -1.0000, -1.0000, -1.0000, -1.0000, -0.3333,  0.9765,\n",
      "         0.9529,  0.1451, -0.6235, -0.7725, -0.3333,  0.3961,  0.7647,  0.9843,\n",
      "         0.7490,  0.3098, -0.5608, -1.0000, -1.0000, -1.0000, -1.0000, -1.0000,\n",
      "        -1.0000, -1.0000, -1.0000, -1.0000, -1.0000, -1.0000, -1.0000, -1.0000,\n",
      "        -1.0000, -1.0000, -0.3333,  0.9765,  0.9765,  0.9765,  0.7961,  0.6863,\n",
      "         0.9765,  0.9765,  0.9765,  0.5373,  0.0196, -1.0000, -1.0000, -1.0000,\n",
      "        -1.0000, -1.0000, -1.0000, -1.0000, -1.0000, -1.0000, -1.0000, -1.0000,\n",
      "        -1.0000, -1.0000, -1.0000, -1.0000, -1.0000, -1.0000, -0.7804,  0.5608,\n",
      "         0.9765,  0.9765,  0.9843,  0.9765,  0.9765,  0.8275,  0.1373, -1.0000,\n",
      "        -1.0000, -1.0000, -1.0000, -1.0000, -1.0000, -1.0000, -1.0000, -1.0000,\n",
      "        -1.0000, -1.0000, -1.0000, -1.0000, -1.0000, -1.0000, -1.0000, -1.0000,\n",
      "        -1.0000, -1.0000, -1.0000, -0.8039,  0.0039,  0.9765,  0.9843,  0.9765,\n",
      "         0.1059, -0.7098, -1.0000, -1.0000, -1.0000, -1.0000, -1.0000, -1.0000,\n",
      "        -1.0000, -1.0000, -1.0000, -1.0000, -1.0000, -1.0000, -1.0000, -1.0000,\n",
      "        -1.0000, -1.0000, -1.0000, -1.0000, -1.0000, -1.0000, -1.0000, -1.0000,\n",
      "        -1.0000, -1.0000, -1.0000, -1.0000, -1.0000, -1.0000, -1.0000, -1.0000,\n",
      "        -1.0000, -1.0000, -1.0000, -1.0000, -1.0000, -1.0000, -1.0000, -1.0000,\n",
      "        -1.0000, -1.0000, -1.0000, -1.0000, -1.0000, -1.0000, -1.0000, -1.0000,\n",
      "        -1.0000, -1.0000, -1.0000, -1.0000, -1.0000, -1.0000, -1.0000, -1.0000,\n",
      "        -1.0000, -1.0000, -1.0000, -1.0000, -1.0000, -1.0000, -1.0000, -1.0000,\n",
      "        -1.0000, -1.0000, -1.0000, -1.0000, -1.0000, -1.0000, -1.0000, -1.0000,\n",
      "        -1.0000, -1.0000, -1.0000, -1.0000, -1.0000, -1.0000, -1.0000, -1.0000,\n",
      "        -1.0000, -1.0000, -1.0000, -1.0000, -1.0000, -1.0000, -1.0000, -1.0000,\n",
      "        -1.0000, -1.0000, -1.0000, -1.0000, -1.0000, -1.0000, -1.0000, -1.0000,\n",
      "        -1.0000, -1.0000, -1.0000, -1.0000, -1.0000, -1.0000, -1.0000, -1.0000,\n",
      "        -1.0000, -1.0000, -1.0000, -1.0000, -1.0000, -1.0000, -1.0000, -1.0000,\n",
      "        -1.0000, -1.0000, -1.0000, -1.0000, -1.0000, -1.0000, -1.0000, -1.0000,\n",
      "        -1.0000, -1.0000, -1.0000, -1.0000, -1.0000, -1.0000, -1.0000, -1.0000])\n"
     ]
    }
   ],
   "source": [
    "print(image)"
   ]
  }
 ],
 "metadata": {
  "kernelspec": {
   "display_name": "Python 3",
   "language": "python",
   "name": "python3"
  },
  "language_info": {
   "codemirror_mode": {
    "name": "ipython",
    "version": 3
   },
   "file_extension": ".py",
   "mimetype": "text/x-python",
   "name": "python",
   "nbconvert_exporter": "python",
   "pygments_lexer": "ipython3",
   "version": "3.7.7"
  }
 },
 "nbformat": 4,
 "nbformat_minor": 4
}
